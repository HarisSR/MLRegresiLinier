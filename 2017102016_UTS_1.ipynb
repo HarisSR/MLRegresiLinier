{
  "nbformat": 4,
  "nbformat_minor": 0,
  "metadata": {
    "colab": {
      "name": "2017102016_UTS_1.ipynb",
      "provenance": [],
      "mount_file_id": "1JkyN_ocMAd_ClnQPxHLwiO_JDogOLkU0",
      "authorship_tag": "ABX9TyNJ5kVtyUAB83POSpvWOWTD",
      "include_colab_link": true
    },
    "kernelspec": {
      "name": "python3",
      "display_name": "Python 3"
    }
  },
  "cells": [
    {
      "cell_type": "markdown",
      "metadata": {
        "id": "view-in-github",
        "colab_type": "text"
      },
      "source": [
        "<a href=\"https://colab.research.google.com/github/HarisSR/MLRegresiLinier/blob/master/2017102016_UTS_1.ipynb\" target=\"_parent\"><img src=\"https://colab.research.google.com/assets/colab-badge.svg\" alt=\"Open In Colab\"/></a>"
      ]
    },
    {
      "cell_type": "code",
      "metadata": {
        "id": "8KRDd7mr-xKt"
      },
      "source": [
        "import pandas as pd\n",
        "from sklearn.model_selection import train_test_split\n",
        "path_ = \"/content/drive/MyDrive/Colab Notebooks/Dataset/Salary.csv\"\n",
        "dataset = pd.read_csv(path_)"
      ],
      "execution_count": 13,
      "outputs": []
    },
    {
      "cell_type": "code",
      "metadata": {
        "colab": {
          "base_uri": "https://localhost:8080/"
        },
        "id": "jqPyMMRp9vTM",
        "outputId": "5c6472e1-0b54-4fab-b8bd-00e1955c6dde"
      },
      "source": [
        "dataset.shape"
      ],
      "execution_count": 17,
      "outputs": [
        {
          "output_type": "execute_result",
          "data": {
            "text/plain": [
              "(35, 2)"
            ]
          },
          "metadata": {
            "tags": []
          },
          "execution_count": 17
        }
      ]
    },
    {
      "cell_type": "code",
      "metadata": {
        "id": "hPxOF_pzHKg4"
      },
      "source": [
        "X = dataset[['YearsExperience']]\n",
        "y = dataset[['Salary']]"
      ],
      "execution_count": 15,
      "outputs": []
    },
    {
      "cell_type": "code",
      "metadata": {
        "id": "w9Odd-B39qFP"
      },
      "source": [
        "X_train,X_test,y_train,y_test = train_test_split(X,y,test_size=0.3)"
      ],
      "execution_count": 27,
      "outputs": []
    },
    {
      "cell_type": "code",
      "metadata": {
        "colab": {
          "base_uri": "https://localhost:8080/"
        },
        "id": "azvloqVE92M0",
        "outputId": "bb039663-596d-4f5c-cb79-ac1595493500"
      },
      "source": [
        "print(X_train.shape)\n",
        "print(y_train.shape)"
      ],
      "execution_count": 28,
      "outputs": [
        {
          "output_type": "stream",
          "text": [
            "(24, 1)\n",
            "(24, 1)\n"
          ],
          "name": "stdout"
        }
      ]
    },
    {
      "cell_type": "code",
      "metadata": {
        "colab": {
          "base_uri": "https://localhost:8080/"
        },
        "id": "fz1EHucP984F",
        "outputId": "4d49eedf-0a12-45fa-a884-26ceedf685c2"
      },
      "source": [
        "print(X_test.shape)\n",
        "print(y_test.shape)"
      ],
      "execution_count": 29,
      "outputs": [
        {
          "output_type": "stream",
          "text": [
            "(11, 1)\n",
            "(11, 1)\n"
          ],
          "name": "stdout"
        }
      ]
    }
  ]
}